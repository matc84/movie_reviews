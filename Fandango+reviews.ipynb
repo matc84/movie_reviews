{
 "cells": [
  {
   "cell_type": "code",
   "execution_count": 161,
   "metadata": {},
   "outputs": [
    {
     "data": {
      "text/html": [
       "<div>\n",
       "<style>\n",
       "    .dataframe thead tr:only-child th {\n",
       "        text-align: right;\n",
       "    }\n",
       "\n",
       "    .dataframe thead th {\n",
       "        text-align: left;\n",
       "    }\n",
       "\n",
       "    .dataframe tbody tr th {\n",
       "        vertical-align: top;\n",
       "    }\n",
       "</style>\n",
       "<table border=\"1\" class=\"dataframe\">\n",
       "  <thead>\n",
       "    <tr style=\"text-align: right;\">\n",
       "      <th></th>\n",
       "      <th>FILM</th>\n",
       "      <th>RottenTomatoes</th>\n",
       "      <th>RottenTomatoes_User</th>\n",
       "      <th>Metacritic</th>\n",
       "      <th>Metacritic_User</th>\n",
       "      <th>IMDB</th>\n",
       "      <th>Fandango_Stars</th>\n",
       "      <th>Fandango_Ratingvalue</th>\n",
       "      <th>RT_norm</th>\n",
       "      <th>RT_user_norm</th>\n",
       "      <th>...</th>\n",
       "      <th>IMDB_norm</th>\n",
       "      <th>RT_norm_round</th>\n",
       "      <th>RT_user_norm_round</th>\n",
       "      <th>Metacritic_norm_round</th>\n",
       "      <th>Metacritic_user_norm_round</th>\n",
       "      <th>IMDB_norm_round</th>\n",
       "      <th>Metacritic_user_vote_count</th>\n",
       "      <th>IMDB_user_vote_count</th>\n",
       "      <th>Fandango_votes</th>\n",
       "      <th>Fandango_Difference</th>\n",
       "    </tr>\n",
       "  </thead>\n",
       "  <tbody>\n",
       "    <tr>\n",
       "      <th>0</th>\n",
       "      <td>Avengers: Age of Ultron (2015)</td>\n",
       "      <td>74</td>\n",
       "      <td>86</td>\n",
       "      <td>66</td>\n",
       "      <td>7.1</td>\n",
       "      <td>7.8</td>\n",
       "      <td>5.0</td>\n",
       "      <td>4.5</td>\n",
       "      <td>3.70</td>\n",
       "      <td>4.3</td>\n",
       "      <td>...</td>\n",
       "      <td>3.90</td>\n",
       "      <td>3.5</td>\n",
       "      <td>4.5</td>\n",
       "      <td>3.5</td>\n",
       "      <td>3.5</td>\n",
       "      <td>4.0</td>\n",
       "      <td>1330</td>\n",
       "      <td>271107</td>\n",
       "      <td>14846</td>\n",
       "      <td>0.5</td>\n",
       "    </tr>\n",
       "    <tr>\n",
       "      <th>1</th>\n",
       "      <td>Cinderella (2015)</td>\n",
       "      <td>85</td>\n",
       "      <td>80</td>\n",
       "      <td>67</td>\n",
       "      <td>7.5</td>\n",
       "      <td>7.1</td>\n",
       "      <td>5.0</td>\n",
       "      <td>4.5</td>\n",
       "      <td>4.25</td>\n",
       "      <td>4.0</td>\n",
       "      <td>...</td>\n",
       "      <td>3.55</td>\n",
       "      <td>4.5</td>\n",
       "      <td>4.0</td>\n",
       "      <td>3.5</td>\n",
       "      <td>4.0</td>\n",
       "      <td>3.5</td>\n",
       "      <td>249</td>\n",
       "      <td>65709</td>\n",
       "      <td>12640</td>\n",
       "      <td>0.5</td>\n",
       "    </tr>\n",
       "    <tr>\n",
       "      <th>2</th>\n",
       "      <td>Ant-Man (2015)</td>\n",
       "      <td>80</td>\n",
       "      <td>90</td>\n",
       "      <td>64</td>\n",
       "      <td>8.1</td>\n",
       "      <td>7.8</td>\n",
       "      <td>5.0</td>\n",
       "      <td>4.5</td>\n",
       "      <td>4.00</td>\n",
       "      <td>4.5</td>\n",
       "      <td>...</td>\n",
       "      <td>3.90</td>\n",
       "      <td>4.0</td>\n",
       "      <td>4.5</td>\n",
       "      <td>3.0</td>\n",
       "      <td>4.0</td>\n",
       "      <td>4.0</td>\n",
       "      <td>627</td>\n",
       "      <td>103660</td>\n",
       "      <td>12055</td>\n",
       "      <td>0.5</td>\n",
       "    </tr>\n",
       "    <tr>\n",
       "      <th>3</th>\n",
       "      <td>Do You Believe? (2015)</td>\n",
       "      <td>18</td>\n",
       "      <td>84</td>\n",
       "      <td>22</td>\n",
       "      <td>4.7</td>\n",
       "      <td>5.4</td>\n",
       "      <td>5.0</td>\n",
       "      <td>4.5</td>\n",
       "      <td>0.90</td>\n",
       "      <td>4.2</td>\n",
       "      <td>...</td>\n",
       "      <td>2.70</td>\n",
       "      <td>1.0</td>\n",
       "      <td>4.0</td>\n",
       "      <td>1.0</td>\n",
       "      <td>2.5</td>\n",
       "      <td>2.5</td>\n",
       "      <td>31</td>\n",
       "      <td>3136</td>\n",
       "      <td>1793</td>\n",
       "      <td>0.5</td>\n",
       "    </tr>\n",
       "    <tr>\n",
       "      <th>4</th>\n",
       "      <td>Hot Tub Time Machine 2 (2015)</td>\n",
       "      <td>14</td>\n",
       "      <td>28</td>\n",
       "      <td>29</td>\n",
       "      <td>3.4</td>\n",
       "      <td>5.1</td>\n",
       "      <td>3.5</td>\n",
       "      <td>3.0</td>\n",
       "      <td>0.70</td>\n",
       "      <td>1.4</td>\n",
       "      <td>...</td>\n",
       "      <td>2.55</td>\n",
       "      <td>0.5</td>\n",
       "      <td>1.5</td>\n",
       "      <td>1.5</td>\n",
       "      <td>1.5</td>\n",
       "      <td>2.5</td>\n",
       "      <td>88</td>\n",
       "      <td>19560</td>\n",
       "      <td>1021</td>\n",
       "      <td>0.5</td>\n",
       "    </tr>\n",
       "  </tbody>\n",
       "</table>\n",
       "<p>5 rows × 22 columns</p>\n",
       "</div>"
      ],
      "text/plain": [
       "                             FILM  RottenTomatoes  RottenTomatoes_User  \\\n",
       "0  Avengers: Age of Ultron (2015)              74                   86   \n",
       "1               Cinderella (2015)              85                   80   \n",
       "2                  Ant-Man (2015)              80                   90   \n",
       "3          Do You Believe? (2015)              18                   84   \n",
       "4   Hot Tub Time Machine 2 (2015)              14                   28   \n",
       "\n",
       "   Metacritic  Metacritic_User  IMDB  Fandango_Stars  Fandango_Ratingvalue  \\\n",
       "0          66              7.1   7.8             5.0                   4.5   \n",
       "1          67              7.5   7.1             5.0                   4.5   \n",
       "2          64              8.1   7.8             5.0                   4.5   \n",
       "3          22              4.7   5.4             5.0                   4.5   \n",
       "4          29              3.4   5.1             3.5                   3.0   \n",
       "\n",
       "   RT_norm  RT_user_norm         ...           IMDB_norm  RT_norm_round  \\\n",
       "0     3.70           4.3         ...                3.90            3.5   \n",
       "1     4.25           4.0         ...                3.55            4.5   \n",
       "2     4.00           4.5         ...                3.90            4.0   \n",
       "3     0.90           4.2         ...                2.70            1.0   \n",
       "4     0.70           1.4         ...                2.55            0.5   \n",
       "\n",
       "   RT_user_norm_round  Metacritic_norm_round  Metacritic_user_norm_round  \\\n",
       "0                 4.5                    3.5                         3.5   \n",
       "1                 4.0                    3.5                         4.0   \n",
       "2                 4.5                    3.0                         4.0   \n",
       "3                 4.0                    1.0                         2.5   \n",
       "4                 1.5                    1.5                         1.5   \n",
       "\n",
       "   IMDB_norm_round  Metacritic_user_vote_count  IMDB_user_vote_count  \\\n",
       "0              4.0                        1330                271107   \n",
       "1              3.5                         249                 65709   \n",
       "2              4.0                         627                103660   \n",
       "3              2.5                          31                  3136   \n",
       "4              2.5                          88                 19560   \n",
       "\n",
       "   Fandango_votes  Fandango_Difference  \n",
       "0           14846                  0.5  \n",
       "1           12640                  0.5  \n",
       "2           12055                  0.5  \n",
       "3            1793                  0.5  \n",
       "4            1021                  0.5  \n",
       "\n",
       "[5 rows x 22 columns]"
      ]
     },
     "execution_count": 161,
     "metadata": {},
     "output_type": "execute_result"
    }
   ],
   "source": [
    "import pandas as pd\n",
    "import matplotlib.pyplot as plt\n",
    "import numpy as np\n",
    "from scipy import stats\n",
    "import matplotlib.mlab as mlab\n",
    "\n",
    "\n",
    "%matplotlib inline\n",
    "\n",
    "movies = pd.read_csv(\"C:\\\\Users\\\\matth_000\\\\Desktop\\\\fandango_ratings.csv\")\n",
    "\n",
    "movies.head()\n",
    "\n",
    "\n",
    "\n",
    "\n",
    "\n"
   ]
  },
  {
   "cell_type": "code",
   "execution_count": 104,
   "metadata": {},
   "outputs": [
    {
     "data": {
      "image/png": "[encoded data removed]",
      "text/plain": [
       "<matplotlib.figure.Figure at 0x1d4f7b459e8>"
      ]
     },
     "metadata": {},
     "output_type": "display_data"
    }
   ],
   "source": [
    "fig = plt.figure(frameon = False)\n",
    "\n",
    "ax1 = fig.add_subplot(111, frameon = False, label = 'meta')\n",
    "ax1 = plt.hist(movies['Metacritic_norm_round'], color = \"blue\", bins  = 8, label = 'Metacritic', alpha = 0.7, normed = 1)\n",
    "plt.xlim(0,5)\n",
    "plt.yticks([])\n",
    "plt.xlabel(\"Number of stars\")\n",
    "plt.ylabel(\"Number of user reviews\")\n",
    "\n",
    "ax2 = fig.add_subplot(111, frameon = False, label = 'fandango')\n",
    "ax2 = plt.hist(movies['Fandango_Stars'], color = 'orange', bins = 5, label = 'Fandango', alpha = 0.7, normed = 1)\n",
    "plt.yticks([])\n",
    "plt.xlim(0,5)\n",
    "\n",
    "\n",
    "\n",
    "\n",
    "fig.legend(loc = 'upper left')\n",
    "plt.show()\n",
    "\n"
   ]
  },
  {
   "cell_type": "markdown",
   "metadata": {},
   "source": [
    "## About the histogram\n",
    "\n",
    "Immediately we can see something strange is happening. Fandango has no ratings below 3 and most of the ratings are between four and five. This seems highly skewed for movie ratings. \n"
   ]
  },
  {
   "cell_type": "code",
   "execution_count": null,
   "metadata": {},
   "outputs": [],
   "source": []
  },
  {
   "cell_type": "code",
   "execution_count": null,
   "metadata": {},
   "outputs": [],
   "source": []
  },
  {
   "cell_type": "code",
   "execution_count": null,
   "metadata": {
    "collapsed": true
   },
   "outputs": [],
   "source": []
  },
  {
   "cell_type": "code",
   "execution_count": null,
   "metadata": {
    "collapsed": true
   },
   "outputs": [],
   "source": []
  },
  {
   "cell_type": "code",
   "execution_count": null,
   "metadata": {
    "collapsed": true
   },
   "outputs": [],
   "source": []
  },
  {
   "cell_type": "code",
   "execution_count": null,
   "metadata": {
    "collapsed": true
   },
   "outputs": [],
   "source": []
  },
  {
   "cell_type": "code",
   "execution_count": null,
   "metadata": {
    "collapsed": true
   },
   "outputs": [],
   "source": []
  },
  {
   "cell_type": "code",
   "execution_count": 85,
   "metadata": {},
   "outputs": [
    {
     "name": "stdout",
     "output_type": "stream",
     "text": [
      "4.089041095890411\n",
      "4.0\n",
      "0.5403859779787333\n",
      "2.9726027397260273\n",
      "3.0\n",
      "0.9909605613743364\n"
     ]
    }
   ],
   "source": [
    "FS_mean = movies['Fandango_Stars'].mean()\n",
    "FS_median = movies[\"Fandango_Stars\"].median()\n",
    "FS_std = movies[\"Fandango_Stars\"].std()\n",
    "\n",
    "MNR_mean = movies['Metacritic_norm_round'].mean()\n",
    "MNR_median = movies[\"Metacritic_norm_round\"].median()\n",
    "MNR_std = movies[\"Metacritic_norm_round\"].std()\n",
    "\n",
    "print(FS_mean)\n",
    "print(FS_median)\n",
    "print(FS_std)\n",
    "\n",
    "print(MNR_mean)\n",
    "print(MNR_median)\n",
    "print(MNR_std)\n",
    "\n"
   ]
  },
  {
   "cell_type": "markdown",
   "metadata": {},
   "source": [
    "## Observations\n",
    "\n",
    "Fandango has much higher scores on average when compared to Metacritic. \n",
    "\n",
    "### Metacitic \n",
    "\n",
    "Metacritic is somewhat open with its rating methods. They take review scores from around the web and from newspapers and aggregate them using weighted averages to make a score out of 100. Reviews with letter grades go from F- (0) to A+ (100) with each increase in letter grade making a difference of about 6% in numerical grade. The four star scale works similarly.\n",
    "\n",
    "### Fandango\n",
    "\n",
    "Fandango no longer uses its own rating system. This is likely due to the fallout from the fivethirtyeight.com article that came out a few years ago, which pointed out that Fandango is likely inflating its movie ratings. Consequently, I was unable to find much information about their rating system. They now use RottenTomatoes' rating on their site.\n",
    "\n",
    "### Standard deviations\n",
    "\n",
    "The standard deviation for Fandango's ratings make sense when we look at the histogram. Out of five possible ratings, only three (3, 4, 5) have ever been picked by the site's users. As such, there is little variance in the data. \n",
    "\n",
    "Metacritic's standard deviation, on the other hand, is bigger because there is a lot more variance to their data.\n",
    "\n",
    "### Means\n",
    "\n",
    "Fandango's mean rating of 4.08 is a lot higher than Metacritic's rating of 2.97. A difference is to be expected, but this is a greater difference than one would think. If movie ratings were perfectly distributed, we would expect the mean to be around 2.5. Of course, these are almost entirely Hollywood movies with budgets of millions of dollars and some of the most popular movies would have the most reviews, so it is understandable that the average ratings are a little higher than 2.5. \n",
    "\n",
    "The reason Fandango's mean rating is so high is unclear from the data. Possibly, the site's users love movies more than the users of other sites love movies. Maybe Fandango doesn't let a user cast a vote that's under three stars. Or maybe Fandango is artificially inflating the movei ratings somehow."
   ]
  },
  {
   "cell_type": "code",
   "execution_count": 172,
   "metadata": {},
   "outputs": [
    {
     "data": {
      "text/plain": [
       "[<matplotlib.lines.Line2D at 0x1d4f857d2e8>,\n",
       " <matplotlib.lines.Line2D at 0x1d4f857d048>]"
      ]
     },
     "execution_count": 172,
     "metadata": {},
     "output_type": "execute_result"
    },
    {
     "data": {
      "image/png": "[encoded data removed]",
      "text/plain": [
       "<matplotlib.figure.Figure at 0x1d4f7ffdf98>"
      ]
     },
     "metadata": {},
     "output_type": "display_data"
    }
   ],
   "source": [
    "ax = plt.subplot(frameon = False)\n",
    "plt.scatter(movies['Fandango_Stars'], movies['Metacritic_norm_round'])\n",
    "plt.xlabel(\"Fandango\")\n",
    "plt.ylabel('Metacritic')\n",
    "ax.set_xlim(0,5.5)\n",
    "ax.set_ylim(0,5.5)\n",
    "\n",
    "## Line showing range of reasonable variance (within one star)\n",
    "plt.plot([(0,0), (1,1), (2,2), (3,3), (4,4),(5,5), (5.5, 5.5)], linewidth = 80, alpha = 0.3)"
   ]
  },
  {
   "cell_type": "markdown",
   "metadata": {},
   "source": [
    "## About the scatterplot\n",
    "\n",
    "The wide line shows what I think is a reasonable amount of variance (about +/- 1.5 stars) along a line which would be where we would expect to see the linear regression. It looks like about half of the dots on the scatterplot are outside of the line, which indicates a lack of correlation. "
   ]
  },
  {
   "cell_type": "code",
   "execution_count": 107,
   "metadata": {},
   "outputs": [
    {
     "data": {
      "text/html": [
       "<div>\n",
       "<style>\n",
       "    .dataframe thead tr:only-child th {\n",
       "        text-align: right;\n",
       "    }\n",
       "\n",
       "    .dataframe thead th {\n",
       "        text-align: left;\n",
       "    }\n",
       "\n",
       "    .dataframe tbody tr th {\n",
       "        vertical-align: top;\n",
       "    }\n",
       "</style>\n",
       "<table border=\"1\" class=\"dataframe\">\n",
       "  <thead>\n",
       "    <tr style=\"text-align: right;\">\n",
       "      <th></th>\n",
       "      <th>FILM</th>\n",
       "      <th>RottenTomatoes</th>\n",
       "      <th>RottenTomatoes_User</th>\n",
       "      <th>Metacritic</th>\n",
       "      <th>Metacritic_User</th>\n",
       "      <th>IMDB</th>\n",
       "      <th>Fandango_Stars</th>\n",
       "      <th>Fandango_Ratingvalue</th>\n",
       "      <th>RT_norm</th>\n",
       "      <th>RT_user_norm</th>\n",
       "      <th>...</th>\n",
       "      <th>RT_norm_round</th>\n",
       "      <th>RT_user_norm_round</th>\n",
       "      <th>Metacritic_norm_round</th>\n",
       "      <th>Metacritic_user_norm_round</th>\n",
       "      <th>IMDB_norm_round</th>\n",
       "      <th>Metacritic_user_vote_count</th>\n",
       "      <th>IMDB_user_vote_count</th>\n",
       "      <th>Fandango_votes</th>\n",
       "      <th>Fandango_Difference</th>\n",
       "      <th>fm_diff</th>\n",
       "    </tr>\n",
       "  </thead>\n",
       "  <tbody>\n",
       "    <tr>\n",
       "      <th>3</th>\n",
       "      <td>Do You Believe? (2015)</td>\n",
       "      <td>18</td>\n",
       "      <td>84</td>\n",
       "      <td>22</td>\n",
       "      <td>4.7</td>\n",
       "      <td>5.4</td>\n",
       "      <td>5.0</td>\n",
       "      <td>4.5</td>\n",
       "      <td>0.90</td>\n",
       "      <td>4.20</td>\n",
       "      <td>...</td>\n",
       "      <td>1.0</td>\n",
       "      <td>4.0</td>\n",
       "      <td>1.0</td>\n",
       "      <td>2.5</td>\n",
       "      <td>2.5</td>\n",
       "      <td>31</td>\n",
       "      <td>3136</td>\n",
       "      <td>1793</td>\n",
       "      <td>0.5</td>\n",
       "      <td>4.0</td>\n",
       "    </tr>\n",
       "    <tr>\n",
       "      <th>85</th>\n",
       "      <td>Little Boy (2015)</td>\n",
       "      <td>20</td>\n",
       "      <td>81</td>\n",
       "      <td>30</td>\n",
       "      <td>5.9</td>\n",
       "      <td>7.4</td>\n",
       "      <td>4.5</td>\n",
       "      <td>4.3</td>\n",
       "      <td>1.00</td>\n",
       "      <td>4.05</td>\n",
       "      <td>...</td>\n",
       "      <td>1.0</td>\n",
       "      <td>4.0</td>\n",
       "      <td>1.5</td>\n",
       "      <td>3.0</td>\n",
       "      <td>3.5</td>\n",
       "      <td>38</td>\n",
       "      <td>5927</td>\n",
       "      <td>811</td>\n",
       "      <td>0.2</td>\n",
       "      <td>3.0</td>\n",
       "    </tr>\n",
       "    <tr>\n",
       "      <th>47</th>\n",
       "      <td>Annie (2014)</td>\n",
       "      <td>27</td>\n",
       "      <td>61</td>\n",
       "      <td>33</td>\n",
       "      <td>4.8</td>\n",
       "      <td>5.2</td>\n",
       "      <td>4.5</td>\n",
       "      <td>4.2</td>\n",
       "      <td>1.35</td>\n",
       "      <td>3.05</td>\n",
       "      <td>...</td>\n",
       "      <td>1.5</td>\n",
       "      <td>3.0</td>\n",
       "      <td>1.5</td>\n",
       "      <td>2.5</td>\n",
       "      <td>2.5</td>\n",
       "      <td>108</td>\n",
       "      <td>19222</td>\n",
       "      <td>6835</td>\n",
       "      <td>0.3</td>\n",
       "      <td>3.0</td>\n",
       "    </tr>\n",
       "    <tr>\n",
       "      <th>19</th>\n",
       "      <td>Pixels (2015)</td>\n",
       "      <td>17</td>\n",
       "      <td>54</td>\n",
       "      <td>27</td>\n",
       "      <td>5.3</td>\n",
       "      <td>5.6</td>\n",
       "      <td>4.5</td>\n",
       "      <td>4.1</td>\n",
       "      <td>0.85</td>\n",
       "      <td>2.70</td>\n",
       "      <td>...</td>\n",
       "      <td>1.0</td>\n",
       "      <td>2.5</td>\n",
       "      <td>1.5</td>\n",
       "      <td>2.5</td>\n",
       "      <td>3.0</td>\n",
       "      <td>246</td>\n",
       "      <td>19521</td>\n",
       "      <td>3886</td>\n",
       "      <td>0.4</td>\n",
       "      <td>3.0</td>\n",
       "    </tr>\n",
       "    <tr>\n",
       "      <th>134</th>\n",
       "      <td>The Longest Ride (2015)</td>\n",
       "      <td>31</td>\n",
       "      <td>73</td>\n",
       "      <td>33</td>\n",
       "      <td>4.8</td>\n",
       "      <td>7.2</td>\n",
       "      <td>4.5</td>\n",
       "      <td>4.5</td>\n",
       "      <td>1.55</td>\n",
       "      <td>3.65</td>\n",
       "      <td>...</td>\n",
       "      <td>1.5</td>\n",
       "      <td>3.5</td>\n",
       "      <td>1.5</td>\n",
       "      <td>2.5</td>\n",
       "      <td>3.5</td>\n",
       "      <td>49</td>\n",
       "      <td>25214</td>\n",
       "      <td>2603</td>\n",
       "      <td>0.0</td>\n",
       "      <td>3.0</td>\n",
       "    </tr>\n",
       "  </tbody>\n",
       "</table>\n",
       "<p>5 rows × 23 columns</p>\n",
       "</div>"
      ],
      "text/plain": [
       "                        FILM  RottenTomatoes  RottenTomatoes_User  Metacritic  \\\n",
       "3     Do You Believe? (2015)              18                   84          22   \n",
       "85         Little Boy (2015)              20                   81          30   \n",
       "47              Annie (2014)              27                   61          33   \n",
       "19             Pixels (2015)              17                   54          27   \n",
       "134  The Longest Ride (2015)              31                   73          33   \n",
       "\n",
       "     Metacritic_User  IMDB  Fandango_Stars  Fandango_Ratingvalue  RT_norm  \\\n",
       "3                4.7   5.4             5.0                   4.5     0.90   \n",
       "85               5.9   7.4             4.5                   4.3     1.00   \n",
       "47               4.8   5.2             4.5                   4.2     1.35   \n",
       "19               5.3   5.6             4.5                   4.1     0.85   \n",
       "134              4.8   7.2             4.5                   4.5     1.55   \n",
       "\n",
       "     RT_user_norm   ...     RT_norm_round  RT_user_norm_round  \\\n",
       "3            4.20   ...               1.0                 4.0   \n",
       "85           4.05   ...               1.0                 4.0   \n",
       "47           3.05   ...               1.5                 3.0   \n",
       "19           2.70   ...               1.0                 2.5   \n",
       "134          3.65   ...               1.5                 3.5   \n",
       "\n",
       "     Metacritic_norm_round  Metacritic_user_norm_round  IMDB_norm_round  \\\n",
       "3                      1.0                         2.5              2.5   \n",
       "85                     1.5                         3.0              3.5   \n",
       "47                     1.5                         2.5              2.5   \n",
       "19                     1.5                         2.5              3.0   \n",
       "134                    1.5                         2.5              3.5   \n",
       "\n",
       "     Metacritic_user_vote_count  IMDB_user_vote_count  Fandango_votes  \\\n",
       "3                            31                  3136            1793   \n",
       "85                           38                  5927             811   \n",
       "47                          108                 19222            6835   \n",
       "19                          246                 19521            3886   \n",
       "134                          49                 25214            2603   \n",
       "\n",
       "     Fandango_Difference  fm_diff  \n",
       "3                    0.5      4.0  \n",
       "85                   0.2      3.0  \n",
       "47                   0.3      3.0  \n",
       "19                   0.4      3.0  \n",
       "134                  0.0      3.0  \n",
       "\n",
       "[5 rows x 23 columns]"
      ]
     },
     "execution_count": 107,
     "metadata": {},
     "output_type": "execute_result"
    }
   ],
   "source": [
    "## find the absolute numerical difference in the ratings.\n",
    "\n",
    "movies['fm_diff'] = abs(movies['Fandango_Stars'] - movies['Metacritic_norm_round'])\n",
    "\n",
    "movies.sort_values(['fm_diff'], ascending = False, inplace = True)\n",
    "\n",
    "movies.head()"
   ]
  },
  {
   "cell_type": "code",
   "execution_count": 108,
   "metadata": {},
   "outputs": [
    {
     "data": {
      "text/plain": [
       "(0.17844919073895918, 0.031161516228523815)"
      ]
     },
     "execution_count": 108,
     "metadata": {},
     "output_type": "execute_result"
    }
   ],
   "source": [
    " stats.pearsonr(movies['Fandango_Stars'], movies['Metacritic_norm_round'])"
   ]
  },
  {
   "cell_type": "markdown",
   "metadata": {},
   "source": [
    "## Observations\n",
    "\n",
    "The Pearson's r-value is 0.17 which is fairly low (-1 implies a strong negative correlation and +1 implies a strong positive correlation). This makes sense when we look at the scatter plot, as we can see that there is little correlation between the two movie score sites' ratings. It doesn't make sense if we didn't have that graph, though. We would think that two movie rating websites comparing the same movies with the same kind of people (people who rate movies on websites) would have a strong correlation. With that in mind, it is likely that something strange is happening here.\n",
    "\n",
    "It also shows that not only are the scores from Fandango inflated, but they are different in some other way as well.\n",
    "\n"
   ]
  },
  {
   "cell_type": "code",
   "execution_count": 171,
   "metadata": {},
   "outputs": [
    {
     "name": "stdout",
     "output_type": "stream",
     "text": [
      "2.61622452281\n",
      "1.96174377224\n",
      "3.27070527337\n",
      "0.178449190739\n",
      "0.150363940451\n"
     ]
    }
   ],
   "source": [
    "slope, intercept, rvalue, pvalue, stderr = stats.linregress(movies['Fandango_Stars'], movies['Metacritic_norm_round'])\n",
    "pred_3 = 3*slope + intercept\n",
    "pred_1 = 1*slope + intercept\n",
    "pred_5 = 5*slope + intercept\n",
    "\n",
    "print(pred_3)\n",
    "print(pred_1)\n",
    "print(pred_5)\n",
    "\n",
    "print(rvalue)\n",
    "print(stderr)\n"
   ]
  },
  {
   "cell_type": "code",
   "execution_count": 170,
   "metadata": {},
   "outputs": [
    {
     "data": {
      "text/plain": [
       "[<matplotlib.lines.Line2D at 0x1d4f8017dd8>]"
      ]
     },
     "execution_count": 170,
     "metadata": {},
     "output_type": "execute_result"
    },
    {
     "data": {
      "image/png": "[encoded data removed]",
      "text/plain": [
       "<matplotlib.figure.Figure at 0x1d4f7d95710>"
      ]
     },
     "metadata": {},
     "output_type": "display_data"
    }
   ],
   "source": [
    "ax = plt.subplot(frameon = False)\n",
    "plt.scatter(movies['Fandango_Stars'], movies['Metacritic_norm_round'])\n",
    "plt.xlabel(\"Fandango\")\n",
    "plt.ylabel('Metacritic')\n",
    "ax.set_xlim(1,5)\n",
    "# ax.set_ylim(1,5)\n",
    "\n",
    "## Linear regression line\n",
    "plt.plot([1.0, 5.0], [pred_1, pred_5], linewidth = 5, color = 'orange', alpha = 0.7)"
   ]
  },
  {
   "cell_type": "markdown",
   "metadata": {},
   "source": [
    "## Linear regression\n",
    "\n",
    "This plot is similar to the previous one, except this one has the actual linear regression. We can see there is some correlation, but not nearly as much as one would expect to find in the review of two sites reviewing the same movies. Next we'll look at how other movie sites compare."
   ]
  },
  {
   "cell_type": "code",
   "execution_count": 115,
   "metadata": {},
   "outputs": [
    {
     "data": {
      "text/plain": [
       "['FILM',\n",
       " 'RottenTomatoes',\n",
       " 'RottenTomatoes_User',\n",
       " 'Metacritic',\n",
       " 'Metacritic_User',\n",
       " 'IMDB',\n",
       " 'Fandango_Stars',\n",
       " 'Fandango_Ratingvalue',\n",
       " 'RT_norm',\n",
       " 'RT_user_norm',\n",
       " 'Metacritic_norm',\n",
       " 'Metacritic_user_nom',\n",
       " 'IMDB_norm',\n",
       " 'RT_norm_round',\n",
       " 'RT_user_norm_round',\n",
       " 'Metacritic_norm_round',\n",
       " 'Metacritic_user_norm_round',\n",
       " 'IMDB_norm_round',\n",
       " 'Metacritic_user_vote_count',\n",
       " 'IMDB_user_vote_count',\n",
       " 'Fandango_votes',\n",
       " 'Fandango_Difference',\n",
       " 'fm_diff']"
      ]
     },
     "execution_count": 115,
     "metadata": {},
     "output_type": "execute_result"
    }
   ],
   "source": [
    "list(movies.columns.values)"
   ]
  },
  {
   "cell_type": "code",
   "execution_count": 119,
   "metadata": {},
   "outputs": [
    {
     "data": {
      "text/plain": [
       "4.2999999999999998"
      ]
     },
     "execution_count": 119,
     "metadata": {},
     "output_type": "execute_result"
    }
   ],
   "source": []
  },
  {
   "cell_type": "code",
   "execution_count": 168,
   "metadata": {},
   "outputs": [
    {
     "name": "stdout",
     "output_type": "stream",
     "text": [
      "2.42809860167\n",
      "4.14271120431\n",
      "0.895297241948\n",
      "0.0177735939341\n"
     ]
    },
    {
     "data": {
      "text/plain": [
       "[<matplotlib.lines.Line2D at 0x1d4f6a50d68>]"
      ]
     },
     "execution_count": 168,
     "metadata": {},
     "output_type": "execute_result"
    },
    {
     "data": {
      "image/png": "[encoded data removed]",
      "text/plain": [
       "<matplotlib.figure.Figure at 0x1d4f81e94a8>"
      ]
     },
     "metadata": {},
     "output_type": "display_data"
    }
   ],
   "source": [
    "## IMDB vs. Rotten Tomatoes\n",
    "\n",
    "slope, intercept, rvalue, pvalue, stderr = stats.linregress(movies['RT_user_norm'], movies['IMDB_norm'])\n",
    "\n",
    "pred_1 = 1*slope + intercept\n",
    "pred_5 = 5*slope + intercept\n",
    "\n",
    "\n",
    "print(pred_1)\n",
    "print(pred_5)\n",
    "print(rvalue)\n",
    "print(stderr)\n",
    "\n",
    "\n",
    "ax = plt.subplot(frameon = False)\n",
    "plt.scatter(movies['RT_user_norm'], movies['IMDB_norm'])\n",
    "plt.xlabel(\"Rotten Tomatoes user scores\")\n",
    "plt.ylabel('IMDB user scores')\n",
    "ax.set_xlim(1,5)\n",
    "# ax.set_ylim(1,5)\n",
    "\n",
    "## Linear regression line\n",
    "plt.plot([1.0, 5.0], [pred_1, pred_5], linewidth = 5, color = 'orange', alpha = 0.7)"
   ]
  },
  {
   "cell_type": "code",
   "execution_count": 133,
   "metadata": {},
   "outputs": [
    {
     "name": "stdout",
     "output_type": "stream",
     "text": [
      "imdb mean =  3.368493150684932\n",
      "imdb median =  3.45\n",
      "imdb standard deviation =  0.47936789193148144 \n",
      "\n",
      "Rotten Tomatoes mean =  3.1938356164383572\n",
      "Rotten Tomatoes median =  3.325\n",
      "Rotten Tomatoes standard deviation =  1.0012215024307145\n"
     ]
    }
   ],
   "source": [
    "imdb_mean = movies['IMDB_norm'].mean()\n",
    "imdb_median = movies[\"IMDB_norm\"].median()\n",
    "imdb_std = movies[\"IMDB_norm\"].std()\n",
    "\n",
    "rt_mean = movies['RT_user_norm'].mean()\n",
    "rt_median = movies[\"RT_user_norm\"].median()\n",
    "rt_std = movies[\"RT_user_norm\"].std()\n",
    "\n",
    "print('imdb mean = ', imdb_mean)\n",
    "print('imdb median = ', imdb_median )\n",
    "print('imdb standard deviation = ', imdb_std, \"\\n\")\n",
    "\n",
    "print('Rotten Tomatoes mean = ', rt_mean)\n",
    "print('Rotten Tomatoes median = ', rt_median)\n",
    "print('Rotten Tomatoes standard deviation = ', rt_std)\n"
   ]
  },
  {
   "cell_type": "markdown",
   "metadata": {},
   "source": [
    "## About this plot\n",
    "\n",
    "This is the kind of plot we expect to see when we're comparing two sites reviewing the same movies. The correlation isn't perfect, however. It looks like IMDB users rate movies a little more harshly than the users of Rotten Tomatoes. We can double check this by looking at some stats from each site:\n",
    "\n",
    "-IMDB mean = 3.37\n",
    "\n",
    "-IMDB median = 3.45\n",
    "\n",
    "-IMDB standard deviation = 0.48\n",
    "\n",
    "-Rotten Tomatoes mean = 3.19\n",
    "\n",
    "-Rotten Tomatoes median = 3.325\n",
    "\n",
    "-Rotten Tomatoes standard deviation = 1.00\n",
    "\n",
    "These are a lot closer to each other than the stats of Fandango and Metacritic were to each other. \n",
    "\n"
   ]
  },
  {
   "cell_type": "code",
   "execution_count": 164,
   "metadata": {},
   "outputs": [
    {
     "data": {
      "text/html": [
       "<div>\n",
       "<style>\n",
       "    .dataframe thead tr:only-child th {\n",
       "        text-align: right;\n",
       "    }\n",
       "\n",
       "    .dataframe thead th {\n",
       "        text-align: left;\n",
       "    }\n",
       "\n",
       "    .dataframe tbody tr th {\n",
       "        vertical-align: top;\n",
       "    }\n",
       "</style>\n",
       "<table border=\"1\" class=\"dataframe\">\n",
       "  <thead>\n",
       "    <tr style=\"text-align: right;\">\n",
       "      <th></th>\n",
       "      <th>Mean</th>\n",
       "      <th>Median</th>\n",
       "      <th>STD</th>\n",
       "    </tr>\n",
       "  </thead>\n",
       "  <tbody>\n",
       "    <tr>\n",
       "      <th>Fandango</th>\n",
       "      <td>4.09</td>\n",
       "      <td>4.00</td>\n",
       "      <td>0.54</td>\n",
       "    </tr>\n",
       "    <tr>\n",
       "      <th>Metacritic</th>\n",
       "      <td>2.97</td>\n",
       "      <td>3.00</td>\n",
       "      <td>0.99</td>\n",
       "    </tr>\n",
       "    <tr>\n",
       "      <th>IMDB</th>\n",
       "      <td>3.37</td>\n",
       "      <td>3.45</td>\n",
       "      <td>0.48</td>\n",
       "    </tr>\n",
       "    <tr>\n",
       "      <th>Rotten Tomatoes</th>\n",
       "      <td>3.19</td>\n",
       "      <td>3.33</td>\n",
       "      <td>1.00</td>\n",
       "    </tr>\n",
       "  </tbody>\n",
       "</table>\n",
       "</div>"
      ],
      "text/plain": [
       "                 Mean  Median   STD\n",
       "Fandango         4.09    4.00  0.54\n",
       "Metacritic       2.97    3.00  0.99\n",
       "IMDB             3.37    3.45  0.48\n",
       "Rotten Tomatoes  3.19    3.33  1.00"
      ]
     },
     "execution_count": 164,
     "metadata": {},
     "output_type": "execute_result"
    }
   ],
   "source": [
    "stats_table = pd.DataFrame([[4.09,4.0, 0.54],\n",
    "                      [2.97, 3.0, 0.99],\n",
    "                      [3.37, 3.45, 0.48],\n",
    "                      [3.19, 3.33, 1.00]\n",
    "                     ])\n",
    "\n",
    "stats_table.index = [\"Fandango\", \"Metacritic\",\"IMDB\", \"Rotten Tomatoes\"]\n",
    "stats_table.rename(index=str, columns={0: \"Mean\", 1: \"Median\", 2: \"STD\"}, inplace = True)\n",
    "stats_table"
   ]
  },
  {
   "cell_type": "code",
   "execution_count": 157,
   "metadata": {},
   "outputs": [
    {
     "data": {
      "text/html": [
       "<div>\n",
       "<style>\n",
       "    .dataframe thead tr:only-child th {\n",
       "        text-align: right;\n",
       "    }\n",
       "\n",
       "    .dataframe thead th {\n",
       "        text-align: left;\n",
       "    }\n",
       "\n",
       "    .dataframe tbody tr th {\n",
       "        vertical-align: top;\n",
       "    }\n",
       "</style>\n",
       "<table border=\"1\" class=\"dataframe\">\n",
       "  <thead>\n",
       "    <tr style=\"text-align: right;\">\n",
       "      <th></th>\n",
       "      <th>FILM</th>\n",
       "      <th>RottenTomatoes</th>\n",
       "      <th>RottenTomatoes_User</th>\n",
       "      <th>Metacritic</th>\n",
       "      <th>Metacritic_User</th>\n",
       "      <th>IMDB</th>\n",
       "      <th>Fandango_Stars</th>\n",
       "      <th>Fandango_Ratingvalue</th>\n",
       "      <th>RT_norm</th>\n",
       "      <th>RT_user_norm</th>\n",
       "      <th>...</th>\n",
       "      <th>RT_user_norm_round</th>\n",
       "      <th>Metacritic_norm_round</th>\n",
       "      <th>Metacritic_user_norm_round</th>\n",
       "      <th>IMDB_norm_round</th>\n",
       "      <th>Metacritic_user_vote_count</th>\n",
       "      <th>IMDB_user_vote_count</th>\n",
       "      <th>Fandango_votes</th>\n",
       "      <th>Fandango_Difference</th>\n",
       "      <th>fm_diff</th>\n",
       "      <th>frt_diff</th>\n",
       "    </tr>\n",
       "  </thead>\n",
       "  <tbody>\n",
       "    <tr>\n",
       "      <th>64</th>\n",
       "      <td>Dark Places (2015)</td>\n",
       "      <td>26</td>\n",
       "      <td>33</td>\n",
       "      <td>39</td>\n",
       "      <td>7.9</td>\n",
       "      <td>6.3</td>\n",
       "      <td>4.0</td>\n",
       "      <td>3.7</td>\n",
       "      <td>1.30</td>\n",
       "      <td>1.65</td>\n",
       "      <td>...</td>\n",
       "      <td>1.5</td>\n",
       "      <td>2.0</td>\n",
       "      <td>4.0</td>\n",
       "      <td>3.0</td>\n",
       "      <td>18</td>\n",
       "      <td>9856</td>\n",
       "      <td>55</td>\n",
       "      <td>0.3</td>\n",
       "      <td>2.0</td>\n",
       "      <td>2.05</td>\n",
       "    </tr>\n",
       "    <tr>\n",
       "      <th>53</th>\n",
       "      <td>Hot Pursuit (2015)</td>\n",
       "      <td>8</td>\n",
       "      <td>37</td>\n",
       "      <td>31</td>\n",
       "      <td>3.7</td>\n",
       "      <td>4.9</td>\n",
       "      <td>4.0</td>\n",
       "      <td>3.7</td>\n",
       "      <td>0.40</td>\n",
       "      <td>1.85</td>\n",
       "      <td>...</td>\n",
       "      <td>2.0</td>\n",
       "      <td>1.5</td>\n",
       "      <td>2.0</td>\n",
       "      <td>2.5</td>\n",
       "      <td>78</td>\n",
       "      <td>17061</td>\n",
       "      <td>2618</td>\n",
       "      <td>0.3</td>\n",
       "      <td>2.5</td>\n",
       "      <td>1.85</td>\n",
       "    </tr>\n",
       "    <tr>\n",
       "      <th>33</th>\n",
       "      <td>The Boy Next Door (2015)</td>\n",
       "      <td>10</td>\n",
       "      <td>35</td>\n",
       "      <td>30</td>\n",
       "      <td>5.5</td>\n",
       "      <td>4.6</td>\n",
       "      <td>4.0</td>\n",
       "      <td>3.6</td>\n",
       "      <td>0.50</td>\n",
       "      <td>1.75</td>\n",
       "      <td>...</td>\n",
       "      <td>2.0</td>\n",
       "      <td>1.5</td>\n",
       "      <td>3.0</td>\n",
       "      <td>2.5</td>\n",
       "      <td>75</td>\n",
       "      <td>19658</td>\n",
       "      <td>2800</td>\n",
       "      <td>0.4</td>\n",
       "      <td>2.5</td>\n",
       "      <td>1.85</td>\n",
       "    </tr>\n",
       "    <tr>\n",
       "      <th>135</th>\n",
       "      <td>The Lazarus Effect (2015)</td>\n",
       "      <td>14</td>\n",
       "      <td>23</td>\n",
       "      <td>31</td>\n",
       "      <td>4.9</td>\n",
       "      <td>5.2</td>\n",
       "      <td>3.0</td>\n",
       "      <td>3.0</td>\n",
       "      <td>0.70</td>\n",
       "      <td>1.15</td>\n",
       "      <td>...</td>\n",
       "      <td>1.0</td>\n",
       "      <td>1.5</td>\n",
       "      <td>2.5</td>\n",
       "      <td>2.5</td>\n",
       "      <td>62</td>\n",
       "      <td>17691</td>\n",
       "      <td>1651</td>\n",
       "      <td>0.0</td>\n",
       "      <td>1.5</td>\n",
       "      <td>1.85</td>\n",
       "    </tr>\n",
       "    <tr>\n",
       "      <th>60</th>\n",
       "      <td>Unfinished Business (2015)</td>\n",
       "      <td>11</td>\n",
       "      <td>27</td>\n",
       "      <td>32</td>\n",
       "      <td>3.8</td>\n",
       "      <td>5.4</td>\n",
       "      <td>3.5</td>\n",
       "      <td>3.2</td>\n",
       "      <td>0.55</td>\n",
       "      <td>1.35</td>\n",
       "      <td>...</td>\n",
       "      <td>1.5</td>\n",
       "      <td>1.5</td>\n",
       "      <td>2.0</td>\n",
       "      <td>2.5</td>\n",
       "      <td>39</td>\n",
       "      <td>14346</td>\n",
       "      <td>821</td>\n",
       "      <td>0.3</td>\n",
       "      <td>2.0</td>\n",
       "      <td>1.85</td>\n",
       "    </tr>\n",
       "  </tbody>\n",
       "</table>\n",
       "<p>5 rows × 24 columns</p>\n",
       "</div>"
      ],
      "text/plain": [
       "                           FILM  RottenTomatoes  RottenTomatoes_User  \\\n",
       "64           Dark Places (2015)              26                   33   \n",
       "53           Hot Pursuit (2015)               8                   37   \n",
       "33     The Boy Next Door (2015)              10                   35   \n",
       "135   The Lazarus Effect (2015)              14                   23   \n",
       "60   Unfinished Business (2015)              11                   27   \n",
       "\n",
       "     Metacritic  Metacritic_User  IMDB  Fandango_Stars  Fandango_Ratingvalue  \\\n",
       "64           39              7.9   6.3             4.0                   3.7   \n",
       "53           31              3.7   4.9             4.0                   3.7   \n",
       "33           30              5.5   4.6             4.0                   3.6   \n",
       "135          31              4.9   5.2             3.0                   3.0   \n",
       "60           32              3.8   5.4             3.5                   3.2   \n",
       "\n",
       "     RT_norm  RT_user_norm    ...     RT_user_norm_round  \\\n",
       "64      1.30          1.65    ...                    1.5   \n",
       "53      0.40          1.85    ...                    2.0   \n",
       "33      0.50          1.75    ...                    2.0   \n",
       "135     0.70          1.15    ...                    1.0   \n",
       "60      0.55          1.35    ...                    1.5   \n",
       "\n",
       "     Metacritic_norm_round  Metacritic_user_norm_round  IMDB_norm_round  \\\n",
       "64                     2.0                         4.0              3.0   \n",
       "53                     1.5                         2.0              2.5   \n",
       "33                     1.5                         3.0              2.5   \n",
       "135                    1.5                         2.5              2.5   \n",
       "60                     1.5                         2.0              2.5   \n",
       "\n",
       "     Metacritic_user_vote_count  IMDB_user_vote_count  Fandango_votes  \\\n",
       "64                           18                  9856              55   \n",
       "53                           78                 17061            2618   \n",
       "33                           75                 19658            2800   \n",
       "135                          62                 17691            1651   \n",
       "60                           39                 14346             821   \n",
       "\n",
       "     Fandango_Difference  fm_diff  frt_diff  \n",
       "64                   0.3      2.0      2.05  \n",
       "53                   0.3      2.5      1.85  \n",
       "33                   0.4      2.5      1.85  \n",
       "135                  0.0      1.5      1.85  \n",
       "60                   0.3      2.0      1.85  \n",
       "\n",
       "[5 rows x 24 columns]"
      ]
     },
     "execution_count": 157,
     "metadata": {},
     "output_type": "execute_result"
    }
   ],
   "source": [
    "## Next we'll find out more about the movies with the biggest disparities in their scores.\n",
    "## The dataframe is still organized by biggest disparities\n",
    "## I'll instead make a new column of the absolute difference between RT_user_norm and Fandango_Ratingvalue as it's not \n",
    "##totally fair to compare critics with users, especially if we can compare users to users.\n",
    "\n",
    "movies['frt_diff'] = abs(movies['Fandango_Ratingvalue'] - movies['RT_user_norm'])\n",
    "movies.sort_values('frt_diff', ascending = False, inplace = True)\n",
    "\n",
    "movies.head()"
   ]
  },
  {
   "cell_type": "code",
   "execution_count": 158,
   "metadata": {},
   "outputs": [
    {
     "name": "stdout",
     "output_type": "stream",
     "text": [
      "Critic mean =  3.042465753424657\n",
      "Critic median =  3.175\n",
      "Critic standard deviation =  1.5084399621823663 \n",
      "\n",
      "User mean =  3.1938356164383572\n",
      "User median =  3.325\n",
      "User standard deviation =  1.0012215024307143\n"
     ]
    }
   ],
   "source": [
    "## Critics vs. user score\n",
    "## Rotten tomatoes\n",
    "\n",
    "## Critics\n",
    "rtc_mean = movies['RT_norm'].mean()\n",
    "rtc_median = movies[\"RT_norm\"].median()\n",
    "rtc_std = movies[\"RT_norm\"].std()\n",
    "\n",
    "\n",
    "## Users\n",
    "rtu_mean = movies['RT_user_norm'].mean()\n",
    "rtu_median = movies[\"RT_user_norm\"].median()\n",
    "rtu_std = movies[\"RT_user_norm\"].std()\n",
    "\n",
    "print('Critic mean = ', rtc_mean)\n",
    "print('Critic median = ', rtc_median )\n",
    "print('Critic standard deviation = ', rtc_std, \"\\n\")\n",
    "\n",
    "print('User mean = ', rtu_mean)\n",
    "print('User median = ', rtu_median)\n",
    "print('User standard deviation = ', rtu_std)\n"
   ]
  },
  {
   "cell_type": "markdown",
   "metadata": {},
   "source": [
    "## Users vs. Critics\n",
    "\n",
    "Understandably, the users of the site Rotten Tomatoes are more forgiving than film critics. Not by as much as one might expect, however. The mean and median are both higher for the users of the site compared to the critics, but the standard deviation of the critics' reviews was about 50% larger, meaning there was a lot more variance in the scores that critics gave. \n",
    "\n",
    "Also, the r-value is 0.78, indicating a close relationship. And the standard error, which shows how far each point is from the mean, is 0.08. This is lower than the standard error for Fandango vs. Metacritic (stderr of 0.15) and higher than it was for RT users vs IMDB users (stderr of 0.02). This is another indicator of variance in the data. It further proves that Fandango scores are more difficult to predict than RT or Metacritic or IMDB when we know one site's score. For example, if I know that a movie has a (normalized) user score of 3.5 on IMDB, I would guess with reasonable confidence that the scores on Metacritic and RT would be between 3 and 4. For Fandango, however, I would have to guess the score to be between 2.5 and 4.5 with the same amount of confidence."
   ]
  },
  {
   "cell_type": "code",
   "execution_count": 182,
   "metadata": {},
   "outputs": [
    {
     "name": "stdout",
     "output_type": "stream",
     "text": [
      "0.45962651525\n",
      "5.16889318741\n",
      "0.781439628202\n",
      "0.0783407779994\n"
     ]
    },
    {
     "data": {
      "text/plain": [
       "[<matplotlib.lines.Line2D at 0x1d4f9aec828>]"
      ]
     },
     "execution_count": 182,
     "metadata": {},
     "output_type": "execute_result"
    },
    {
     "data": {
      "image/png": "[encoded data removed]",
      "text/plain": [
       "<matplotlib.figure.Figure at 0x1d4f9a8ff28>"
      ]
     },
     "metadata": {},
     "output_type": "display_data"
    }
   ],
   "source": [
    "## Rotten Tomatoes critics vs. Rotten Tomatoes users\n",
    "\n",
    "slope, intercept, rvalue, pvalue, stderr = stats.linregress(movies['RT_user_norm'], movies['RT_norm'])\n",
    "\n",
    "pred_1 = 1*slope + intercept\n",
    "pred_5 = 5*slope + intercept\n",
    "\n",
    "\n",
    "print(pred_1)\n",
    "print(pred_5)\n",
    "print(rvalue)\n",
    "print(stderr)\n",
    "\n",
    "\n",
    "ax = plt.subplot(frameon = False)\n",
    "plt.scatter(movies['RT_user_norm'], movies['RT_norm'])\n",
    "plt.xlabel(\"Rotten Tomatoes user scores\")\n",
    "plt.ylabel('Rotten Tomatoes critic scores')\n",
    "ax.set_xlim(0,5)\n",
    "ax.set_ylim(0,5)\n",
    "\n",
    "## Linear regression line\n",
    "plt.plot([1, 5], [pred_1, pred_5], linewidth = 5, color = 'orange', alpha = 0.7)"
   ]
  },
  {
   "cell_type": "markdown",
   "metadata": {},
   "source": [
    "## Why is this happening\n",
    "\n",
    "To dive deeper into this issue, I looked up the movie with the highest disparity between RT users and Fandango users. The movie was Dark Places (2015) with a score difference of 2.05. RT users gave it 33% and Fandango users gave it 3.7 stars.\n",
    "\n",
    "### How the ratings work\n",
    "\n",
    "The first thing everyone needs to know about Rotten Tomatoes is that the scores they give movies are not averages. They take  review scores from critics (or users in this case) and count what percent is the equivalent of 6/10 or greater. That percentage is the movie's RT score. In the case of Dark Places, the score of 33% means that 33% of RT users gave it a positive rating. \n",
    "\n",
    "Fandago's user ratings work differently. The user gives the movie one, two, three, four, or five stars and the site gives that movie a score based which is the average of all its users' ratings. \n",
    "\n",
    "Second, on Rotten Tomatoes, a user can give a film half stars as well as whole stars. On Fandango a user can only give whole stars. As to how much of an impact this has on the scores is difficult to determine, but it likely has some effect.\n",
    "\n",
    "Third, on RT the users tend to write longer reviews and leave their real name. It doesn't seem to be a requirement for the site, but about 99% of reviewers left their first name and last initial. The site does encourage you to sign up with Facebook though. \n",
    "\n",
    "On Fandango the reviews are shorter (about 2-3 sentences each) and they include a headline. Looking through the review section on the site, which now has RT critic reviews beside Fandango fan reviews, you will see that the Fandango reviews look like they could be blurbs on a poster. \n",
    "\n",
    "Example: \n",
    "\n",
    "[5 Stars]\n",
    "\n",
    "### EXCELLENT MURDER MYSTERY\n",
    "\n",
    "Very true to the book. Well done movie with great acting all around. Must see.\n",
    "\n",
    "And RT:\n",
    "\n",
    "[Fresh tomato]\n",
    "\n",
    "August 13, 2015\n",
    "\n",
    "The surface level generic pleasures of Dark Places and the stellar cast are entertaining.\n",
    "\n",
    "## Closing thoughts\n",
    "\n",
    "Whether or not its intentional, the small differences in how Fandango handles its reviews encourage users to be kinder to films. No half stars automatically means less accuracy then the other big movie sites. Shorter reviews and pseodonyms lead to less thoughtful reviews. And movie-poster-blurb style formatting encourages exitement. Everything brought together makes for an inaccurate, inflated movie review system and I hope they change it soon. "
   ]
  },
  {
   "cell_type": "code",
   "execution_count": null,
   "metadata": {
    "collapsed": true
   },
   "outputs": [],
   "source": []
  },
  {
   "cell_type": "code",
   "execution_count": null,
   "metadata": {
    "collapsed": true
   },
   "outputs": [],
   "source": []
  },
  {
   "cell_type": "code",
   "execution_count": null,
   "metadata": {
    "collapsed": true
   },
   "outputs": [],
   "source": []
  },
  {
   "cell_type": "markdown",
   "metadata": {},
   "source": [
    "Fandango has the highest mean and median by a lot, and the second-lowest standard deviation. So not only are the scores inflated, but there is less variation than the other sites. IMDB has the lowest standard deviation at 0.48, but its mean and median are more reasonable.\n",
    "\n",
    "Metacritic has the lowest scores on average, but this may be because we've used critics' scores for their ratings and user scores for the other sites. "
   ]
  },
  {
   "cell_type": "markdown",
   "metadata": {},
   "source": []
  },
  {
   "cell_type": "markdown",
   "metadata": {},
   "source": []
  },
  {
   "cell_type": "markdown",
   "metadata": {},
   "source": []
  },
  {
   "cell_type": "code",
   "execution_count": null,
   "metadata": {
    "collapsed": true
   },
   "outputs": [],
   "source": []
  },
  {
   "cell_type": "code",
   "execution_count": 136,
   "metadata": {
    "collapsed": true
   },
   "outputs": [],
   "source": []
  },
  {
   "cell_type": "code",
   "execution_count": null,
   "metadata": {},
   "outputs": [],
   "source": []
  },
  {
   "cell_type": "code",
   "execution_count": null,
   "metadata": {
    "collapsed": true
   },
   "outputs": [],
   "source": []
  }
 ],
 "metadata": {
  "kernelspec": {
   "display_name": "Python 3",
   "language": "python",
   "name": "python3"
  },
  "language_info": {
   "codemirror_mode": {
    "name": "ipython",
    "version": 3
   },
   "file_extension": ".py",
   "mimetype": "text/x-python",
   "name": "python",
   "nbconvert_exporter": "python",
   "pygments_lexer": "ipython3",
   "version": "3.6.3"
  }
 },
 "nbformat": 4,
 "nbformat_minor": 2
}
